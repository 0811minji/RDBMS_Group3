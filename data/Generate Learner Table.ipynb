{
 "cells": [
  {
   "cell_type": "code",
   "execution_count": 3,
   "metadata": {},
   "outputs": [
    {
     "data": {
      "text/html": [
       "<div>\n",
       "<style scoped>\n",
       "    .dataframe tbody tr th:only-of-type {\n",
       "        vertical-align: middle;\n",
       "    }\n",
       "\n",
       "    .dataframe tbody tr th {\n",
       "        vertical-align: top;\n",
       "    }\n",
       "\n",
       "    .dataframe thead th {\n",
       "        text-align: right;\n",
       "    }\n",
       "</style>\n",
       "<table border=\"1\" class=\"dataframe\">\n",
       "  <thead>\n",
       "    <tr style=\"text-align: right;\">\n",
       "      <th></th>\n",
       "      <th>learnerID</th>\n",
       "      <th>learnerProfile</th>\n",
       "    </tr>\n",
       "  </thead>\n",
       "  <tbody>\n",
       "    <tr>\n",
       "      <th>0</th>\n",
       "      <td>A010000003</td>\n",
       "      <td>F;S01;1</td>\n",
       "    </tr>\n",
       "    <tr>\n",
       "      <th>1</th>\n",
       "      <td>A010000003</td>\n",
       "      <td>F;S01;1</td>\n",
       "    </tr>\n",
       "    <tr>\n",
       "      <th>2</th>\n",
       "      <td>A010000003</td>\n",
       "      <td>F;S01;1</td>\n",
       "    </tr>\n",
       "    <tr>\n",
       "      <th>3</th>\n",
       "      <td>A010000003</td>\n",
       "      <td>F;S01;1</td>\n",
       "    </tr>\n",
       "    <tr>\n",
       "      <th>4</th>\n",
       "      <td>A010000003</td>\n",
       "      <td>F;S01;1</td>\n",
       "    </tr>\n",
       "    <tr>\n",
       "      <th>...</th>\n",
       "      <td>...</td>\n",
       "      <td>...</td>\n",
       "    </tr>\n",
       "    <tr>\n",
       "      <th>1677353</th>\n",
       "      <td>A090000774</td>\n",
       "      <td>F;S01;9</td>\n",
       "    </tr>\n",
       "    <tr>\n",
       "      <th>1677354</th>\n",
       "      <td>A090000774</td>\n",
       "      <td>F;S01;9</td>\n",
       "    </tr>\n",
       "    <tr>\n",
       "      <th>1677355</th>\n",
       "      <td>A090000774</td>\n",
       "      <td>F;S01;9</td>\n",
       "    </tr>\n",
       "    <tr>\n",
       "      <th>1677356</th>\n",
       "      <td>A090000774</td>\n",
       "      <td>F;S01;9</td>\n",
       "    </tr>\n",
       "    <tr>\n",
       "      <th>1677357</th>\n",
       "      <td>A090000774</td>\n",
       "      <td>F;S01;9</td>\n",
       "    </tr>\n",
       "  </tbody>\n",
       "</table>\n",
       "<p>1677358 rows × 2 columns</p>\n",
       "</div>"
      ],
      "text/plain": [
       "          learnerID learnerProfile\n",
       "0        A010000003        F;S01;1\n",
       "1        A010000003        F;S01;1\n",
       "2        A010000003        F;S01;1\n",
       "3        A010000003        F;S01;1\n",
       "4        A010000003        F;S01;1\n",
       "...             ...            ...\n",
       "1677353  A090000774        F;S01;9\n",
       "1677354  A090000774        F;S01;9\n",
       "1677355  A090000774        F;S01;9\n",
       "1677356  A090000774        F;S01;9\n",
       "1677357  A090000774        F;S01;9\n",
       "\n",
       "[1677358 rows x 2 columns]"
      ]
     },
     "execution_count": 3,
     "metadata": {},
     "output_type": "execute_result"
    }
   ],
   "source": [
    "import pandas as pd\n",
    "\n",
    "df = pd.read_csv('answerCode.csv')\n",
    "\n",
    "learner_df = df[['learnerID', 'learnerProfile']] #두 칼럼만 learner_df에 복사\n",
    "\n",
    "df.drop('learnerProfile', axis=1, inplace=True) #answerCode테이블에서 learnerProfile은 삭제\n",
    "df.to_csv('answerCode.csv', index=False)\n",
    "\n",
    "learner_df"
   ]
  },
  {
   "cell_type": "code",
   "execution_count": 4,
   "metadata": {},
   "outputs": [
    {
     "name": "stderr",
     "output_type": "stream",
     "text": [
      "/var/folders/v_/ccwz5s7931bf1s6yx_rzlzqm0000gn/T/ipykernel_95349/3980475401.py:1: SettingWithCopyWarning: \n",
      "A value is trying to be set on a copy of a slice from a DataFrame.\n",
      "Try using .loc[row_indexer,col_indexer] = value instead\n",
      "\n",
      "See the caveats in the documentation: https://pandas.pydata.org/pandas-docs/stable/user_guide/indexing.html#returning-a-view-versus-a-copy\n",
      "  learner_df[['gender', 'unused', 'grade']] = learner_df['learnerProfile'].str.split(\";\", expand=True)\n",
      "/var/folders/v_/ccwz5s7931bf1s6yx_rzlzqm0000gn/T/ipykernel_95349/3980475401.py:1: SettingWithCopyWarning: \n",
      "A value is trying to be set on a copy of a slice from a DataFrame.\n",
      "Try using .loc[row_indexer,col_indexer] = value instead\n",
      "\n",
      "See the caveats in the documentation: https://pandas.pydata.org/pandas-docs/stable/user_guide/indexing.html#returning-a-view-versus-a-copy\n",
      "  learner_df[['gender', 'unused', 'grade']] = learner_df['learnerProfile'].str.split(\";\", expand=True)\n"
     ]
    }
   ],
   "source": [
    "learner_df[['gender', 'unused', 'grade']] = learner_df['learnerProfile'].str.split(\";\", expand=True)\n",
    "learner_df['gender'] = learner_df['gender'].map({'F':0, 'M':1})\n",
    "learner_df['grade'] = learner_df['grade'].astype(int)\n",
    "learner_df.drop('unused', axis=1, inplace=True)"
   ]
  },
  {
   "cell_type": "code",
   "execution_count": 6,
   "metadata": {},
   "outputs": [],
   "source": [
    "learner_df.drop('learnerProfile', axis=1, inplace=True)"
   ]
  },
  {
   "cell_type": "code",
   "execution_count": 7,
   "metadata": {},
   "outputs": [],
   "source": [
    "learner_df.to_csv('learner.csv', index=False)"
   ]
  },
  {
   "cell_type": "code",
   "execution_count": 15,
   "metadata": {},
   "outputs": [
    {
     "name": "stdout",
     "output_type": "stream",
     "text": [
      "gender\n",
      "1    258666\n",
      "0    217905\n",
      "Name: count, dtype: int64\n",
      "grade\n",
      "7    210550\n",
      "8    179954\n",
      "9     86067\n",
      "Name: count, dtype: int64\n"
     ]
    }
   ],
   "source": [
    "middleschool = learner_df[learner_df['grade']>=7]\n",
    "\n",
    "print(middleschool['gender'].value_counts())\n",
    "print(middleschool['grade'].value_counts())\n",
    "\n",
    "middleschool.to_csv('middleschoolLearners.csv', index=False)"
   ]
  },
  {
   "cell_type": "code",
   "execution_count": null,
   "metadata": {},
   "outputs": [],
   "source": []
  }
 ],
 "metadata": {
  "kernelspec": {
   "display_name": "Python 3",
   "language": "python",
   "name": "python3"
  },
  "language_info": {
   "codemirror_mode": {
    "name": "ipython",
    "version": 3
   },
   "file_extension": ".py",
   "mimetype": "text/x-python",
   "name": "python",
   "nbconvert_exporter": "python",
   "pygments_lexer": "ipython3",
   "version": "3.12.4"
  }
 },
 "nbformat": 4,
 "nbformat_minor": 2
}
